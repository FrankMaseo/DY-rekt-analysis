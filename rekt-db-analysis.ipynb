{
 "cells": [
  {
   "cell_type": "code",
   "execution_count": 42,
   "id": "9bb38fa2",
   "metadata": {},
   "outputs": [],
   "source": [
    "#Wrapper function for API calls\n",
    "import api_wrapper as dy \n",
    "\n",
    "test_query = \"\"\"\n",
    "{\n",
    "    rekts(\n",
    "        pageNumber:1\n",
    "        pageSize:10\n",
    "        searchText: \"terra\"\n",
    "        orderBy: {\n",
    "            fundsLost: desc\n",
    "        }\n",
    "    ){\n",
    "        id\n",
    "        projectName\n",
    "        description\n",
    "    }\n",
    "}\n",
    "\"\"\"\n"
   ]
  },
  {
   "cell_type": "code",
   "execution_count": 40,
   "id": "bd825c8a",
   "metadata": {},
   "outputs": [],
   "source": [
    "res  = dy.runQuery(test_query)"
   ]
  },
  {
   "cell_type": "code",
   "execution_count": 41,
   "id": "0e2af4b8",
   "metadata": {},
   "outputs": [
    {
     "data": {
      "text/plain": [
       "{'data': {'rekts': [{'id': 3058,\n",
       "    'projectName': 'Terra Classic',\n",
       "    'description': '<p><strong>Quick Summary</strong></p><p>A complex mixture of events and market dynamics cost the implosion of the $40b Terra (Classic) Network.&nbsp;</p><p><br></p><p><strong>Details of the Exploit</strong></p><p>The Terra Luna Network was focused on its two native coins $LUNC and $USTC. $USTC was the algorithmic Stablecoin that was supposed to hold the peg to 1$ and $LUNC functioned as the satellite asset that absorbed $USTC’s volatility. This was achieved through a mint and burn functionality as well as by arbitrage which the former function inherently enabled.</p><p><br></p><p>$USTC rose to prominence in rapid fashion even surpassing $DAI in market cap. The Luna Foundation Group decided to start a new Curve4pool with $FRAX, $USTC, $USDC and $USDT as assets, excluding $DAI in an attempt to starve the most used StableCoin pool used by institutions the Curve3pool on the Ethereum network.</p><p><br></p><p>The migration of $USTC from the Curve3pool is the event that started the bankrun. In early May, the Luna Foundation Guard withdrew 250 million $USTC from the Curve3pool in preparation for the Curve4pool. Simultaneously, a handful of whales withdrew sizeable amounts from the anchor protocol, a crypto savings bank. The biggest wallet withdrew 347 million $USTC in total and bridged funds to the Curve3pool in order to swap for other assets. This movement of funds created an imbalance between $USTC and other Stablecoins in the pool, resulting in devaluation of $USTC on exchanges.</p><p><br></p><p>As a result of the tokenomics of $USTC and $LUNC the firesale of $USTC resulted in uncontrollable minting of the $LUNC token and a rapid fall in valuation. Additionally, the Terra network went down due to overload in transaction as market participants were panicking and trying to answer margin calls within the Anchor protocol. Eventually massive liquidations of collateral in the Anchor protocol would be incurred by investors.</p><p><br></p><p><strong>Block Data Reference</strong></p><p>Whale Addresses:</p><p>https://etherscan.io/address/0x8d47f08ebc5554504742f547eb721a43d4947d0a</p><p>https://etherscan.io/address/0x4b5e60cb1cd6c5e67af5e6cf63229d1614bb781c</p><p>https://etherscan.io/address/0x1df8ea15bb725e110118f031e8e71b91abaa2a06</p><p>https://etherscan.io/address/0xeb5425e650b04e49e5e8b62fbf1c3f60df01f232</p><p>https://etherscan.io/address/0x41339d9825963515e5705df8d3b0ea98105ebb1c</p><p>https://etherscan.io/address/0x68963dc7c28a36fcacb0b39ac2d807b0329b9c69</p><p>https://etherscan.io/address/0x9f705ff1da72ed334f0e80f90aae5644f5cd7784</p>'},\n",
       "   {'id': 3132,\n",
       "    'projectName': 'Mirror Protocol (2)',\n",
       "    'description': '<p><strong>Quick Summary</strong></p><p>Terra\\'s Mirror Protocol was exploited for ~$2 million. This exploit was made possible through validators\\' usage of outdated oracle software.</p><p><strong><br>Details of the Exploit</strong></p><p>The Mirror Protocol was a synthetic assets protocol that allowed users to deposit $USTC or $LUNAC with a lockup period in order to mint synthetic stocks and commodities. It is noteworthy that the new Terra Network was launched within days after the collapse of the Terra Classic Network. The protocol suffered an exploit in the amount of $2 million caused by outdated oracle price feeds. The price feeds used the price of the new Luna Coin instead of the LunaC. While the new Luna coin was trading at a price around 5$ at the time, the $LUNAC coin was practically worthless at a price point of fractions of a cent. This meant that for $1k in $LUNC an attacker could deposit $1,3 million in deposit and borrow against it.&nbsp;</p><p><br></p><p>Due to this mechanism, attackers drained several pools on the platform.</p><p><br></p><p style=\"margin:0cm;background:white;\"><strong>Block Data Reference</strong></p><p>Example Transaction: https://finder.terra.money/classic/tx/F830681D8FEACC4DA67E84D40C49F0FF805609F2BB5CCC39A0EFE66257F2D791</p>'},\n",
       "   {'id': 2267,\n",
       "    'projectName': 'MoonTerra',\n",
       "    'description': '<p>The contract owner could disable the transfer function, which restricted users in selling their tokens.</p>'},\n",
       "   {'id': 824,\n",
       "    'projectName': 'TerrainNFT',\n",
       "    'description': '<p>The contract owner could disable the transfer function, which restricted users in selling their tokens.</p>'},\n",
       "   {'id': 583,\n",
       "    'projectName': 'TerraCycle',\n",
       "    'description': \"<p>A review of the token contract shows low network activity, which didn't lead to significant funds loss for the user in the past. The project is considered abandoned.</p>\"}]}}"
      ]
     },
     "execution_count": 41,
     "metadata": {},
     "output_type": "execute_result"
    }
   ],
   "source": [
    "res"
   ]
  }
 ],
 "metadata": {
  "kernelspec": {
   "display_name": "Python 3 (ipykernel)",
   "language": "python",
   "name": "python3"
  },
  "language_info": {
   "codemirror_mode": {
    "name": "ipython",
    "version": 3
   },
   "file_extension": ".py",
   "mimetype": "text/x-python",
   "name": "python",
   "nbconvert_exporter": "python",
   "pygments_lexer": "ipython3",
   "version": "3.10.9"
  }
 },
 "nbformat": 4,
 "nbformat_minor": 5
}
